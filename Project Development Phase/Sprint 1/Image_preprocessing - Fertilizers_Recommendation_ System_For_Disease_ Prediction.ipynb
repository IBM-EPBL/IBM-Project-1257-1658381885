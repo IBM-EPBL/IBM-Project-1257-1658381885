{
 "cells": [
  {
   "cell_type": "markdown",
   "id": "a1e1454f",
   "metadata": {},
   "source": [
    "# Preprocessing the fruits and vegetable plant images"
   ]
  },
  {
   "cell_type": "code",
   "execution_count": 1,
   "id": "5934b55f",
   "metadata": {},
   "outputs": [],
   "source": [
    "from keras.preprocessing.image import ImageDataGenerator\n",
    "train_datagen = ImageDataGenerator(rescale=1./255,shear_range=0.2,\n",
    "                                   zoom_range=0.2,\n",
    "                                   horizontal_flip=True)\n",
    "test_datagen = ImageDataGenerator(rescale=1)"
   ]
  },
  {
   "cell_type": "code",
   "execution_count": 2,
   "id": "89efd02b",
   "metadata": {},
   "outputs": [
    {
     "name": "stdout",
     "output_type": "stream",
     "text": [
      "Found 5384 images belonging to 6 classes.\n",
      "Found 1686 images belonging to 6 classes.\n"
     ]
    }
   ],
   "source": [
    "xtrain_fruit = train_datagen.flow_from_directory(r'D:\\IBM 7th sem project\\Fertilizers_Recommendation_ System_For_Disease_ Prediction\\Dataset Plant Disease\\fruit-dataset\\fruit-dataset\\train',\n",
    "                                           target_size=(128,128),\n",
    "                                           batch_size=32,class_mode='categorical')\n",
    "xtest_fruit = test_datagen.flow_from_directory(r'D:\\IBM 7th sem project\\Fertilizers_Recommendation_ System_For_Disease_ Prediction\\Dataset Plant Disease\\fruit-dataset\\fruit-dataset\\test',\n",
    "                                           target_size=(128,128),\n",
    "                                           batch_size=32,class_mode='categorical')"
   ]
  },
  {
   "cell_type": "code",
   "execution_count": 3,
   "id": "64747ad6",
   "metadata": {},
   "outputs": [
    {
     "name": "stdout",
     "output_type": "stream",
     "text": [
      "Found 11386 images belonging to 9 classes.\n",
      "Found 3416 images belonging to 9 classes.\n"
     ]
    }
   ],
   "source": [
    "xtrain_veg = train_datagen.flow_from_directory(r'D:\\IBM 7th sem project\\Fertilizers_Recommendation_ System_For_Disease_ Prediction\\Dataset Plant Disease\\Veg-dataset\\Veg-dataset\\train_set',\n",
    "                                           target_size=(128,128),\n",
    "                                           batch_size=32,class_mode='categorical')\n",
    "xtest_veg = test_datagen.flow_from_directory(r'D:\\IBM 7th sem project\\Fertilizers_Recommendation_ System_For_Disease_ Prediction\\Dataset Plant Disease\\Veg-dataset\\Veg-dataset\\test_set',\n",
    "                                           target_size=(128,128),\n",
    "                                           batch_size=32,class_mode='categorical')"
   ]
  }
 ],
 "metadata": {
  "kernelspec": {
   "display_name": "Python 3",
   "language": "python",
   "name": "python3"
  },
  "language_info": {
   "codemirror_mode": {
    "name": "ipython",
    "version": 3
   },
   "file_extension": ".py",
   "mimetype": "text/x-python",
   "name": "python",
   "nbconvert_exporter": "python",
   "pygments_lexer": "ipython3",
   "version": "3.8.8"
  }
 },
 "nbformat": 4,
 "nbformat_minor": 5
}
