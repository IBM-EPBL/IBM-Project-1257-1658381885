{
 "cells": [
  {
   "cell_type": "markdown",
   "metadata": {
    "id": "nooMsj5bVjge"
   },
   "source": [
    "# **Image Augmentation**\n",
    "\n",
    "It is a technique used to increase the image with some modification. To overcome overfitting we are using augmentation."
   ]
  },
  {
   "cell_type": "code",
   "execution_count": 1,
   "metadata": {
    "id": "CloXgRmFs_XQ",
    "outputId": "33566328-67a0-4169-e1d8-f63d633a66ed"
   },
   "outputs": [
    {
     "name": "stdout",
     "output_type": "stream",
     "text": [
      "Requirement already satisfied: tensorflow in c:\\users\\dineshraja\\anaconda3\\lib\\site-packages (2.10.0)\n",
      "Requirement already satisfied: setuptools in c:\\users\\dineshraja\\anaconda3\\lib\\site-packages (from tensorflow) (52.0.0.post20210125)\n",
      "Requirement already satisfied: tensorflow-estimator<2.11,>=2.10.0 in c:\\users\\dineshraja\\anaconda3\\lib\\site-packages (from tensorflow) (2.10.0)\n",
      "Requirement already satisfied: wrapt>=1.11.0 in c:\\users\\dineshraja\\anaconda3\\lib\\site-packages (from tensorflow) (1.12.1)\n",
      "Requirement already satisfied: tensorboard<2.11,>=2.10 in c:\\users\\dineshraja\\anaconda3\\lib\\site-packages (from tensorflow) (2.10.1)\n",
      "Requirement already satisfied: grpcio<2.0,>=1.24.3 in c:\\users\\dineshraja\\anaconda3\\lib\\site-packages (from tensorflow) (1.49.1)\n",
      "Requirement already satisfied: packaging in c:\\users\\dineshraja\\anaconda3\\lib\\site-packages (from tensorflow) (20.9)\n",
      "Requirement already satisfied: protobuf<3.20,>=3.9.2 in c:\\users\\dineshraja\\anaconda3\\lib\\site-packages (from tensorflow) (3.19.6)\n",
      "Requirement already satisfied: termcolor>=1.1.0 in c:\\users\\dineshraja\\anaconda3\\lib\\site-packages (from tensorflow) (2.0.1)\n",
      "Requirement already satisfied: google-pasta>=0.1.1 in c:\\users\\dineshraja\\anaconda3\\lib\\site-packages (from tensorflow) (0.2.0)\n",
      "Requirement already satisfied: keras<2.11,>=2.10.0 in c:\\users\\dineshraja\\anaconda3\\lib\\site-packages (from tensorflow) (2.10.0)\n",
      "Requirement already satisfied: flatbuffers>=2.0 in c:\\users\\dineshraja\\anaconda3\\lib\\site-packages (from tensorflow) (22.9.24)\n",
      "Requirement already satisfied: gast<=0.4.0,>=0.2.1 in c:\\users\\dineshraja\\anaconda3\\lib\\site-packages (from tensorflow) (0.4.0)\n",
      "Requirement already satisfied: keras-preprocessing>=1.1.1 in c:\\users\\dineshraja\\anaconda3\\lib\\site-packages (from tensorflow) (1.1.2)\n",
      "Requirement already satisfied: typing-extensions>=3.6.6 in c:\\users\\dineshraja\\anaconda3\\lib\\site-packages (from tensorflow) (3.7.4.3)\n",
      "Requirement already satisfied: h5py>=2.9.0 in c:\\users\\dineshraja\\anaconda3\\lib\\site-packages (from tensorflow) (2.10.0)\n",
      "Requirement already satisfied: astunparse>=1.6.0 in c:\\users\\dineshraja\\anaconda3\\lib\\site-packages (from tensorflow) (1.6.3)\n",
      "Requirement already satisfied: tensorflow-io-gcs-filesystem>=0.23.1 in c:\\users\\dineshraja\\anaconda3\\lib\\site-packages (from tensorflow) (0.27.0)\n",
      "Requirement already satisfied: opt-einsum>=2.3.2 in c:\\users\\dineshraja\\anaconda3\\lib\\site-packages (from tensorflow) (3.3.0)\n",
      "Requirement already satisfied: absl-py>=1.0.0 in c:\\users\\dineshraja\\anaconda3\\lib\\site-packages (from tensorflow) (1.2.0)\n",
      "Requirement already satisfied: libclang>=13.0.0 in c:\\users\\dineshraja\\anaconda3\\lib\\site-packages (from tensorflow) (14.0.6)\n",
      "Requirement already satisfied: numpy>=1.20 in c:\\users\\dineshraja\\anaconda3\\lib\\site-packages (from tensorflow) (1.20.1)\n",
      "Requirement already satisfied: six>=1.12.0 in c:\\users\\dineshraja\\anaconda3\\lib\\site-packages (from tensorflow) (1.15.0)\n",
      "Requirement already satisfied: wheel<1.0,>=0.23.0 in c:\\users\\dineshraja\\anaconda3\\lib\\site-packages (from astunparse>=1.6.0->tensorflow) (0.36.2)\n",
      "Requirement already satisfied: google-auth<3,>=1.6.3 in c:\\users\\dineshraja\\anaconda3\\lib\\site-packages (from tensorboard<2.11,>=2.10->tensorflow) (2.12.0)\n",
      "Requirement already satisfied: werkzeug>=1.0.1 in c:\\users\\dineshraja\\anaconda3\\lib\\site-packages (from tensorboard<2.11,>=2.10->tensorflow) (1.0.1)\n",
      "Requirement already satisfied: requests<3,>=2.21.0 in c:\\users\\dineshraja\\anaconda3\\lib\\site-packages (from tensorboard<2.11,>=2.10->tensorflow) (2.25.1)\n",
      "Requirement already satisfied: tensorboard-data-server<0.7.0,>=0.6.0 in c:\\users\\dineshraja\\anaconda3\\lib\\site-packages (from tensorboard<2.11,>=2.10->tensorflow) (0.6.1)\n",
      "Requirement already satisfied: tensorboard-plugin-wit>=1.6.0 in c:\\users\\dineshraja\\anaconda3\\lib\\site-packages (from tensorboard<2.11,>=2.10->tensorflow) (1.8.1)\n",
      "Requirement already satisfied: google-auth-oauthlib<0.5,>=0.4.1 in c:\\users\\dineshraja\\anaconda3\\lib\\site-packages (from tensorboard<2.11,>=2.10->tensorflow) (0.4.6)\n",
      "Requirement already satisfied: markdown>=2.6.8 in c:\\users\\dineshraja\\anaconda3\\lib\\site-packages (from tensorboard<2.11,>=2.10->tensorflow) (3.4.1)\n",
      "Requirement already satisfied: rsa<5,>=3.1.4 in c:\\users\\dineshraja\\anaconda3\\lib\\site-packages (from google-auth<3,>=1.6.3->tensorboard<2.11,>=2.10->tensorflow) (4.9)\n",
      "Requirement already satisfied: pyasn1-modules>=0.2.1 in c:\\users\\dineshraja\\anaconda3\\lib\\site-packages (from google-auth<3,>=1.6.3->tensorboard<2.11,>=2.10->tensorflow) (0.2.8)\n",
      "Requirement already satisfied: cachetools<6.0,>=2.0.0 in c:\\users\\dineshraja\\anaconda3\\lib\\site-packages (from google-auth<3,>=1.6.3->tensorboard<2.11,>=2.10->tensorflow) (5.2.0)\n",
      "Requirement already satisfied: requests-oauthlib>=0.7.0 in c:\\users\\dineshraja\\anaconda3\\lib\\site-packages (from google-auth-oauthlib<0.5,>=0.4.1->tensorboard<2.11,>=2.10->tensorflow) (1.3.1)\n",
      "Requirement already satisfied: importlib-metadata>=4.4 in c:\\users\\dineshraja\\anaconda3\\lib\\site-packages (from markdown>=2.6.8->tensorboard<2.11,>=2.10->tensorflow) (4.12.0)\n",
      "Requirement already satisfied: zipp>=0.5 in c:\\users\\dineshraja\\anaconda3\\lib\\site-packages (from importlib-metadata>=4.4->markdown>=2.6.8->tensorboard<2.11,>=2.10->tensorflow) (3.4.1)\n",
      "Requirement already satisfied: pyasn1<0.5.0,>=0.4.6 in c:\\users\\dineshraja\\anaconda3\\lib\\site-packages (from pyasn1-modules>=0.2.1->google-auth<3,>=1.6.3->tensorboard<2.11,>=2.10->tensorflow) (0.4.8)\n",
      "Requirement already satisfied: certifi>=2017.4.17 in c:\\users\\dineshraja\\anaconda3\\lib\\site-packages (from requests<3,>=2.21.0->tensorboard<2.11,>=2.10->tensorflow) (2020.12.5)\n",
      "Requirement already satisfied: urllib3<1.27,>=1.21.1 in c:\\users\\dineshraja\\anaconda3\\lib\\site-packages (from requests<3,>=2.21.0->tensorboard<2.11,>=2.10->tensorflow) (1.26.4)\n",
      "Requirement already satisfied: chardet<5,>=3.0.2 in c:\\users\\dineshraja\\anaconda3\\lib\\site-packages (from requests<3,>=2.21.0->tensorboard<2.11,>=2.10->tensorflow) (4.0.0)\n",
      "Requirement already satisfied: idna<3,>=2.5 in c:\\users\\dineshraja\\anaconda3\\lib\\site-packages (from requests<3,>=2.21.0->tensorboard<2.11,>=2.10->tensorflow) (2.10)\n",
      "Requirement already satisfied: oauthlib>=3.0.0 in c:\\users\\dineshraja\\anaconda3\\lib\\site-packages (from requests-oauthlib>=0.7.0->google-auth-oauthlib<0.5,>=0.4.1->tensorboard<2.11,>=2.10->tensorflow) (3.2.1)\n",
      "Requirement already satisfied: pyparsing>=2.0.2 in c:\\users\\dineshraja\\anaconda3\\lib\\site-packages (from packaging->tensorflow) (2.4.7)\n"
     ]
    }
   ],
   "source": [
    "!pip install tensorflow"
   ]
  },
  {
   "cell_type": "code",
   "execution_count": 2,
   "metadata": {
    "id": "m7siVT5qUYGP"
   },
   "outputs": [],
   "source": [
    "# Import required lib\n",
    "\n",
    "from keras.preprocessing.image import ImageDataGenerator"
   ]
  },
  {
   "cell_type": "code",
   "execution_count": 3,
   "metadata": {
    "id": "otlxqYLHWPgs"
   },
   "outputs": [],
   "source": [
    "# Initializing augmentation for training variable\n",
    "\n",
    "train_datagen = ImageDataGenerator(rescale=1./255,shear_range=0.2,\n",
    "                                   zoom_range=0.2,\n",
    "                                   horizontal_flip=True)"
   ]
  },
  {
   "cell_type": "code",
   "execution_count": 4,
   "metadata": {
    "id": "BrGmvE9SXpvU"
   },
   "outputs": [],
   "source": [
    "# Initializing augmentation for testing variable\n",
    "\n",
    "test_datagen = ImageDataGenerator(rescale=1)"
   ]
  },
  {
   "cell_type": "code",
   "execution_count": 5,
   "metadata": {
    "colab": {
     "base_uri": "https://localhost:8080/"
    },
    "id": "ZEJbmZkdYD_W",
    "outputId": "917e51d6-50bf-4716-daa9-9591249fd08e"
   },
   "outputs": [
    {
     "name": "stdout",
     "output_type": "stream",
     "text": [
      "Found 5384 images belonging to 6 classes.\n"
     ]
    }
   ],
   "source": [
    "# Passing training data for training variable (augmentation)\n",
    "\n",
    "xtrain_fruit = train_datagen.flow_from_directory(r'D:\\IBM 7th sem project\\Fertilizers_Recommendation_ System_For_Disease_ Prediction\\Dataset Plant Disease\\fruit-dataset\\fruit-dataset\\train',\n",
    "                                           target_size=(128,128),\n",
    "                                           batch_size=32,class_mode='categorical')"
   ]
  },
  {
   "cell_type": "code",
   "execution_count": 6,
   "metadata": {
    "colab": {
     "base_uri": "https://localhost:8080/"
    },
    "id": "ErnKIG2UZOEV",
    "outputId": "63a47389-3142-446a-e0aa-ded10e13099d"
   },
   "outputs": [
    {
     "name": "stdout",
     "output_type": "stream",
     "text": [
      "Found 1686 images belonging to 6 classes.\n"
     ]
    }
   ],
   "source": [
    "# Passing testing data for testing variable (augmentation)\n",
    "\n",
    "xtest_fruit = test_datagen.flow_from_directory(r'D:\\IBM 7th sem project\\Fertilizers_Recommendation_ System_For_Disease_ Prediction\\Dataset Plant Disease\\fruit-dataset\\fruit-dataset\\test',\n",
    "                                           target_size=(128,128),\n",
    "                                           batch_size=32,class_mode='categorical')"
   ]
  },
  {
   "cell_type": "markdown",
   "metadata": {
    "id": "ZrW-zmWOtMjb"
   },
   "source": [
    "# **Create Model**"
   ]
  },
  {
   "cell_type": "markdown",
   "metadata": {
    "id": "aMaCs9XEaCLv"
   },
   "source": [
    "# CNN Model"
   ]
  },
  {
   "cell_type": "code",
   "execution_count": 7,
   "metadata": {
    "id": "j4e01RYsZ4Dn"
   },
   "outputs": [],
   "source": [
    "from keras.models import Sequential\n",
    "from keras.layers import Dense\n",
    "from keras.layers import Convolution2D\n",
    "from keras.layers import MaxPooling2D\n",
    "from keras.layers import Flatten"
   ]
  },
  {
   "cell_type": "markdown",
   "metadata": {
    "id": "4uucwXsMvWTJ"
   },
   "source": [
    "# **Add Layers (Convolution,MaxPooling,Flatten,Dense-(Hidden Layers),Output)**"
   ]
  },
  {
   "cell_type": "code",
   "execution_count": 12,
   "metadata": {
    "id": "9MfdAZhDaek-"
   },
   "outputs": [],
   "source": [
    "# CNN block \n",
    "\n",
    "model = Sequential() # Initializing sequential model \n",
    "model.add(Convolution2D(32,(3,3),activation='relu',input_shape=(128,128,3))) # Convolution layer \n",
    "model.add(MaxPooling2D(pool_size=(2, 2))) # Max pooling layer \n",
    "model.add(Flatten()) # Flatten layer "
   ]
  },
  {
   "cell_type": "code",
   "execution_count": 16,
   "metadata": {},
   "outputs": [],
   "source": [
    "model.add(Dense(40,activation='relu')) # Hidden layer 1\n",
    "model.add(Dense(20,activation='relu')) # Hidden layer 2\n",
    "model.add(Dense(6,activation='softmax')) # Output layer "
   ]
  },
  {
   "cell_type": "markdown",
   "metadata": {
    "id": "MORmhTgJvaXh"
   },
   "source": [
    "# **Compile The Model**"
   ]
  },
  {
   "cell_type": "code",
   "execution_count": 17,
   "metadata": {
    "id": "5bV0xenScmZ4"
   },
   "outputs": [],
   "source": [
    "# Compile model\n",
    "\n",
    "model.compile(optimizer='adam',loss='categorical_crossentropy',metrics=['accuracy'])"
   ]
  },
  {
   "cell_type": "markdown",
   "metadata": {
    "id": "Zs8Nl0UFs_XU"
   },
   "source": [
    "# **Fit The Model**"
   ]
  },
  {
   "cell_type": "code",
   "execution_count": 18,
   "metadata": {
    "colab": {
     "base_uri": "https://localhost:8080/"
    },
    "id": "-7BqBhJXc6S6",
    "outputId": "d34d88af-1871-4650-da20-f798b03fdef1"
   },
   "outputs": [
    {
     "name": "stderr",
     "output_type": "stream",
     "text": [
      "<ipython-input-18-9e8e826260d2>:3: UserWarning: `Model.fit_generator` is deprecated and will be removed in a future version. Please use `Model.fit`, which supports generators.\n",
      "  model.fit_generator(xtrain_fruit,\n"
     ]
    },
    {
     "name": "stdout",
     "output_type": "stream",
     "text": [
      "Epoch 1/5\n",
      "169/169 [==============================] - 49s 286ms/step - loss: 0.9939 - accuracy: 0.6594 - val_loss: 36.6986 - val_accuracy: 0.8571\n",
      "Epoch 2/5\n",
      "169/169 [==============================] - 38s 226ms/step - loss: 0.4686 - accuracy: 0.8258 - val_loss: 36.8398 - val_accuracy: 0.8749\n",
      "Epoch 3/5\n",
      "169/169 [==============================] - 39s 229ms/step - loss: 0.4052 - accuracy: 0.8538 - val_loss: 49.4932 - val_accuracy: 0.8428\n",
      "Epoch 4/5\n",
      "169/169 [==============================] - 40s 235ms/step - loss: 0.3368 - accuracy: 0.8804 - val_loss: 221.7197 - val_accuracy: 0.7017\n",
      "Epoch 5/5\n",
      "169/169 [==============================] - 42s 251ms/step - loss: 0.2909 - accuracy: 0.8990 - val_loss: 83.2117 - val_accuracy: 0.8025\n"
     ]
    },
    {
     "data": {
      "text/plain": [
       "<keras.callbacks.History at 0x259712f7dc0>"
      ]
     },
     "execution_count": 18,
     "metadata": {},
     "output_type": "execute_result"
    }
   ],
   "source": [
    "# Training model\n",
    "\n",
    "model.fit_generator(xtrain_fruit,\n",
    "                    steps_per_epoch=len(xtrain_fruit),\n",
    "                    epochs=5,\n",
    "                    validation_data=xtest_fruit,\n",
    "                    validation_steps=len(xtest_fruit))"
   ]
  },
  {
   "cell_type": "markdown",
   "metadata": {
    "id": "n95PeBHAtl-X"
   },
   "source": [
    "# **Save The Model**"
   ]
  },
  {
   "cell_type": "code",
   "execution_count": 19,
   "metadata": {
    "id": "9rCwu4JneThA"
   },
   "outputs": [],
   "source": [
    "# Save model\n",
    "\n",
    "model.save('fruit.h5')"
   ]
  },
  {
   "cell_type": "markdown",
   "metadata": {
    "id": "eNt4D2MjfwEO"
   },
   "source": [
    "# **Test The Model**"
   ]
  },
  {
   "cell_type": "code",
   "execution_count": 27,
   "metadata": {
    "colab": {
     "base_uri": "https://localhost:8080/"
    },
    "id": "aDE-2pdofYz3",
    "outputId": "374a3d79-6e8b-4e0f-a114-5c3c02cfa0d9"
   },
   "outputs": [
    {
     "name": "stdout",
     "output_type": "stream",
     "text": [
      "1/1 [==============================] - 0s 94ms/step\n",
      "2\n"
     ]
    }
   ],
   "source": [
    "from tensorflow.keras.preprocessing import image  # Importing req. lib\n",
    "from tensorflow.keras.preprocessing.image import img_to_array\n",
    "from tensorflow.keras.models import load_model\n",
    "import numpy as np\n",
    "\n",
    "model = load_model(\"fruit.h5\")\n",
    "\n",
    "img = image.load_img(r\"D:\\IBM 7th sem project\\apple-healthy.jpg\",target_size=(128,128))\n",
    "x = image.img_to_array(img)\n",
    "x = np.expand_dims(x,axis=0)\n",
    "pred = np.argmax(model.predict(x))\n",
    "print(pred)"
   ]
  }
 ],
 "metadata": {
  "accelerator": "GPU",
  "colab": {
   "collapsed_sections": [],
   "provenance": []
  },
  "kernelspec": {
   "display_name": "Python 3",
   "language": "python",
   "name": "python3"
  },
  "language_info": {
   "codemirror_mode": {
    "name": "ipython",
    "version": 3
   },
   "file_extension": ".py",
   "mimetype": "text/x-python",
   "name": "python",
   "nbconvert_exporter": "python",
   "pygments_lexer": "ipython3",
   "version": "3.8.8"
  }
 },
 "nbformat": 4,
 "nbformat_minor": 1
}
