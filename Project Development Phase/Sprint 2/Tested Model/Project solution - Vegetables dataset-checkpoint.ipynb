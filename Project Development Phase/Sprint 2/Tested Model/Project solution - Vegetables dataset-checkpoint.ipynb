{
 "cells": [
  {
   "cell_type": "markdown",
   "metadata": {
    "id": "nooMsj5bVjge"
   },
   "source": [
    "# **Image Augmentation**\n",
    "\n",
    "It is a technique used to increase the image with some modification. To overcome overfitting we are using augmentation."
   ]
  },
  {
   "cell_type": "code",
   "execution_count": 1,
   "metadata": {
    "id": "CloXgRmFs_XQ",
    "outputId": "33566328-67a0-4169-e1d8-f63d633a66ed"
   },
   "outputs": [
    {
     "name": "stdout",
     "output_type": "stream",
     "text": [
      "Requirement already satisfied: tensorflow in c:\\users\\dineshraja\\anaconda3\\lib\\site-packages (2.10.0)\n",
      "Requirement already satisfied: keras-preprocessing>=1.1.1 in c:\\users\\dineshraja\\anaconda3\\lib\\site-packages (from tensorflow) (1.1.2)\n",
      "Requirement already satisfied: tensorflow-io-gcs-filesystem>=0.23.1 in c:\\users\\dineshraja\\anaconda3\\lib\\site-packages (from tensorflow) (0.27.0)\n",
      "Requirement already satisfied: h5py>=2.9.0 in c:\\users\\dineshraja\\anaconda3\\lib\\site-packages (from tensorflow) (2.10.0)\n",
      "Requirement already satisfied: google-pasta>=0.1.1 in c:\\users\\dineshraja\\anaconda3\\lib\\site-packages (from tensorflow) (0.2.0)\n",
      "Requirement already satisfied: termcolor>=1.1.0 in c:\\users\\dineshraja\\anaconda3\\lib\\site-packages (from tensorflow) (2.0.1)\n",
      "Requirement already satisfied: tensorboard<2.11,>=2.10 in c:\\users\\dineshraja\\anaconda3\\lib\\site-packages (from tensorflow) (2.10.1)\n",
      "Requirement already satisfied: flatbuffers>=2.0 in c:\\users\\dineshraja\\anaconda3\\lib\\site-packages (from tensorflow) (22.9.24)\n",
      "Requirement already satisfied: keras<2.11,>=2.10.0 in c:\\users\\dineshraja\\anaconda3\\lib\\site-packages (from tensorflow) (2.10.0)\n",
      "Requirement already satisfied: grpcio<2.0,>=1.24.3 in c:\\users\\dineshraja\\anaconda3\\lib\\site-packages (from tensorflow) (1.49.1)\n",
      "Requirement already satisfied: tensorflow-estimator<2.11,>=2.10.0 in c:\\users\\dineshraja\\anaconda3\\lib\\site-packages (from tensorflow) (2.10.0)\n",
      "Requirement already satisfied: astunparse>=1.6.0 in c:\\users\\dineshraja\\anaconda3\\lib\\site-packages (from tensorflow) (1.6.3)\n",
      "Requirement already satisfied: gast<=0.4.0,>=0.2.1 in c:\\users\\dineshraja\\anaconda3\\lib\\site-packages (from tensorflow) (0.4.0)\n",
      "Requirement already satisfied: protobuf<3.20,>=3.9.2 in c:\\users\\dineshraja\\anaconda3\\lib\\site-packages (from tensorflow) (3.19.6)\n",
      "Requirement already satisfied: numpy>=1.20 in c:\\users\\dineshraja\\anaconda3\\lib\\site-packages (from tensorflow) (1.20.1)\n",
      "Requirement already satisfied: packaging in c:\\users\\dineshraja\\anaconda3\\lib\\site-packages (from tensorflow) (20.9)\n",
      "Requirement already satisfied: six>=1.12.0 in c:\\users\\dineshraja\\anaconda3\\lib\\site-packages (from tensorflow) (1.15.0)\n",
      "Requirement already satisfied: opt-einsum>=2.3.2 in c:\\users\\dineshraja\\anaconda3\\lib\\site-packages (from tensorflow) (3.3.0)\n",
      "Requirement already satisfied: typing-extensions>=3.6.6 in c:\\users\\dineshraja\\anaconda3\\lib\\site-packages (from tensorflow) (3.7.4.3)\n",
      "Requirement already satisfied: wrapt>=1.11.0 in c:\\users\\dineshraja\\anaconda3\\lib\\site-packages (from tensorflow) (1.12.1)\n",
      "Requirement already satisfied: setuptools in c:\\users\\dineshraja\\anaconda3\\lib\\site-packages (from tensorflow) (52.0.0.post20210125)\n",
      "Requirement already satisfied: absl-py>=1.0.0 in c:\\users\\dineshraja\\anaconda3\\lib\\site-packages (from tensorflow) (1.2.0)\n",
      "Requirement already satisfied: libclang>=13.0.0 in c:\\users\\dineshraja\\anaconda3\\lib\\site-packages (from tensorflow) (14.0.6)\n",
      "Requirement already satisfied: wheel<1.0,>=0.23.0 in c:\\users\\dineshraja\\anaconda3\\lib\\site-packages (from astunparse>=1.6.0->tensorflow) (0.36.2)\n",
      "Requirement already satisfied: requests<3,>=2.21.0 in c:\\users\\dineshraja\\anaconda3\\lib\\site-packages (from tensorboard<2.11,>=2.10->tensorflow) (2.25.1)\n",
      "Requirement already satisfied: tensorboard-data-server<0.7.0,>=0.6.0 in c:\\users\\dineshraja\\anaconda3\\lib\\site-packages (from tensorboard<2.11,>=2.10->tensorflow) (0.6.1)\n",
      "Requirement already satisfied: werkzeug>=1.0.1 in c:\\users\\dineshraja\\anaconda3\\lib\\site-packages (from tensorboard<2.11,>=2.10->tensorflow) (1.0.1)\n",
      "Requirement already satisfied: google-auth-oauthlib<0.5,>=0.4.1 in c:\\users\\dineshraja\\anaconda3\\lib\\site-packages (from tensorboard<2.11,>=2.10->tensorflow) (0.4.6)\n",
      "Requirement already satisfied: markdown>=2.6.8 in c:\\users\\dineshraja\\anaconda3\\lib\\site-packages (from tensorboard<2.11,>=2.10->tensorflow) (3.4.1)\n",
      "Requirement already satisfied: tensorboard-plugin-wit>=1.6.0 in c:\\users\\dineshraja\\anaconda3\\lib\\site-packages (from tensorboard<2.11,>=2.10->tensorflow) (1.8.1)\n",
      "Requirement already satisfied: google-auth<3,>=1.6.3 in c:\\users\\dineshraja\\anaconda3\\lib\\site-packages (from tensorboard<2.11,>=2.10->tensorflow) (2.12.0)\n",
      "Requirement already satisfied: cachetools<6.0,>=2.0.0 in c:\\users\\dineshraja\\anaconda3\\lib\\site-packages (from google-auth<3,>=1.6.3->tensorboard<2.11,>=2.10->tensorflow) (5.2.0)\n",
      "Requirement already satisfied: rsa<5,>=3.1.4 in c:\\users\\dineshraja\\anaconda3\\lib\\site-packages (from google-auth<3,>=1.6.3->tensorboard<2.11,>=2.10->tensorflow) (4.9)\n",
      "Requirement already satisfied: pyasn1-modules>=0.2.1 in c:\\users\\dineshraja\\anaconda3\\lib\\site-packages (from google-auth<3,>=1.6.3->tensorboard<2.11,>=2.10->tensorflow) (0.2.8)\n",
      "Requirement already satisfied: requests-oauthlib>=0.7.0 in c:\\users\\dineshraja\\anaconda3\\lib\\site-packages (from google-auth-oauthlib<0.5,>=0.4.1->tensorboard<2.11,>=2.10->tensorflow) (1.3.1)\n",
      "Requirement already satisfied: importlib-metadata>=4.4 in c:\\users\\dineshraja\\anaconda3\\lib\\site-packages (from markdown>=2.6.8->tensorboard<2.11,>=2.10->tensorflow) (4.12.0)\n",
      "Requirement already satisfied: zipp>=0.5 in c:\\users\\dineshraja\\anaconda3\\lib\\site-packages (from importlib-metadata>=4.4->markdown>=2.6.8->tensorboard<2.11,>=2.10->tensorflow) (3.4.1)\n",
      "Requirement already satisfied: pyasn1<0.5.0,>=0.4.6 in c:\\users\\dineshraja\\anaconda3\\lib\\site-packages (from pyasn1-modules>=0.2.1->google-auth<3,>=1.6.3->tensorboard<2.11,>=2.10->tensorflow) (0.4.8)\n",
      "Requirement already satisfied: certifi>=2017.4.17 in c:\\users\\dineshraja\\anaconda3\\lib\\site-packages (from requests<3,>=2.21.0->tensorboard<2.11,>=2.10->tensorflow) (2020.12.5)\n",
      "Requirement already satisfied: chardet<5,>=3.0.2 in c:\\users\\dineshraja\\anaconda3\\lib\\site-packages (from requests<3,>=2.21.0->tensorboard<2.11,>=2.10->tensorflow) (4.0.0)\n",
      "Requirement already satisfied: urllib3<1.27,>=1.21.1 in c:\\users\\dineshraja\\anaconda3\\lib\\site-packages (from requests<3,>=2.21.0->tensorboard<2.11,>=2.10->tensorflow) (1.26.4)\n",
      "Requirement already satisfied: idna<3,>=2.5 in c:\\users\\dineshraja\\anaconda3\\lib\\site-packages (from requests<3,>=2.21.0->tensorboard<2.11,>=2.10->tensorflow) (2.10)\n",
      "Requirement already satisfied: oauthlib>=3.0.0 in c:\\users\\dineshraja\\anaconda3\\lib\\site-packages (from requests-oauthlib>=0.7.0->google-auth-oauthlib<0.5,>=0.4.1->tensorboard<2.11,>=2.10->tensorflow) (3.2.1)\n",
      "Requirement already satisfied: pyparsing>=2.0.2 in c:\\users\\dineshraja\\anaconda3\\lib\\site-packages (from packaging->tensorflow) (2.4.7)\n"
     ]
    }
   ],
   "source": [
    "!pip install tensorflow"
   ]
  },
  {
   "cell_type": "code",
   "execution_count": 2,
   "metadata": {
    "id": "m7siVT5qUYGP"
   },
   "outputs": [],
   "source": [
    "# Import required lib\n",
    "\n",
    "from keras.preprocessing.image import ImageDataGenerator"
   ]
  },
  {
   "cell_type": "code",
   "execution_count": 3,
   "metadata": {
    "id": "otlxqYLHWPgs"
   },
   "outputs": [],
   "source": [
    "# Initializing augmentation for training variable\n",
    "\n",
    "train_datagen = ImageDataGenerator(rescale=1./255,shear_range=0.2,\n",
    "                                   zoom_range=0.2,\n",
    "                                   horizontal_flip=True)"
   ]
  },
  {
   "cell_type": "code",
   "execution_count": 4,
   "metadata": {
    "id": "BrGmvE9SXpvU"
   },
   "outputs": [],
   "source": [
    "# Initializing augmentation for testing variable\n",
    "\n",
    "test_datagen = ImageDataGenerator(rescale=1)"
   ]
  },
  {
   "cell_type": "code",
   "execution_count": 5,
   "metadata": {},
   "outputs": [
    {
     "name": "stdout",
     "output_type": "stream",
     "text": [
      "Found 11386 images belonging to 9 classes.\n"
     ]
    }
   ],
   "source": [
    "xtrain_veg = train_datagen.flow_from_directory(r'D:\\IBM 7th sem project\\Fertilizers_Recommendation_ System_For_Disease_ Prediction\\Dataset Plant Disease\\Veg-dataset\\Veg-dataset\\train_set',\n",
    "                                           target_size=(128,128),\n",
    "                                           batch_size=32,class_mode='categorical')"
   ]
  },
  {
   "cell_type": "code",
   "execution_count": 6,
   "metadata": {},
   "outputs": [
    {
     "name": "stdout",
     "output_type": "stream",
     "text": [
      "Found 3416 images belonging to 9 classes.\n"
     ]
    }
   ],
   "source": [
    "xtest_veg = test_datagen.flow_from_directory(r'D:\\IBM 7th sem project\\Fertilizers_Recommendation_ System_For_Disease_ Prediction\\Dataset Plant Disease\\Veg-dataset\\Veg-dataset\\test_set',\n",
    "                                           target_size=(128,128),\n",
    "                                           batch_size=32,class_mode='categorical')"
   ]
  },
  {
   "cell_type": "markdown",
   "metadata": {
    "id": "ZrW-zmWOtMjb"
   },
   "source": [
    "# **Create Model**"
   ]
  },
  {
   "cell_type": "markdown",
   "metadata": {
    "id": "aMaCs9XEaCLv"
   },
   "source": [
    "# CNN Model"
   ]
  },
  {
   "cell_type": "code",
   "execution_count": 7,
   "metadata": {
    "id": "j4e01RYsZ4Dn"
   },
   "outputs": [],
   "source": [
    "from keras.models import Sequential\n",
    "from keras.layers import Dense\n",
    "from keras.layers import Convolution2D\n",
    "from keras.layers import MaxPooling2D\n",
    "from keras.layers import Flatten"
   ]
  },
  {
   "cell_type": "markdown",
   "metadata": {
    "id": "4uucwXsMvWTJ"
   },
   "source": [
    "# **Add Layers (Convolution,MaxPooling,Flatten,Dense-(Hidden Layers),Output)**"
   ]
  },
  {
   "cell_type": "code",
   "execution_count": 8,
   "metadata": {
    "id": "9MfdAZhDaek-"
   },
   "outputs": [],
   "source": [
    "# CNN block \n",
    "\n",
    "model = Sequential() # Initializing sequential model \n",
    "model.add(Convolution2D(32,(3,3),activation='relu',input_shape=(128,128,3))) # Convolution layer \n",
    "model.add(MaxPooling2D(pool_size=(2, 2))) # Max pooling layer \n",
    "model.add(Flatten()) # Flatten layer "
   ]
  },
  {
   "cell_type": "code",
   "execution_count": 9,
   "metadata": {},
   "outputs": [],
   "source": [
    "model.add(Dense(300,activation='relu')) \n",
    "model.add(Dense(150,activation='relu')) \n",
    "model.add(Dense(75,activation='relu')) \n",
    "model.add(Dense(9,activation='softmax')) "
   ]
  },
  {
   "cell_type": "markdown",
   "metadata": {
    "id": "MORmhTgJvaXh"
   },
   "source": [
    "# **Compile The Model**"
   ]
  },
  {
   "cell_type": "code",
   "execution_count": 10,
   "metadata": {
    "id": "5bV0xenScmZ4"
   },
   "outputs": [],
   "source": [
    "# Compile model\n",
    "\n",
    "model.compile(optimizer='adam',loss='categorical_crossentropy',metrics=['accuracy'])"
   ]
  },
  {
   "cell_type": "markdown",
   "metadata": {
    "id": "Zs8Nl0UFs_XU"
   },
   "source": [
    "# **Fit The Model**"
   ]
  },
  {
   "cell_type": "code",
   "execution_count": 11,
   "metadata": {
    "colab": {
     "base_uri": "https://localhost:8080/"
    },
    "id": "-7BqBhJXc6S6",
    "outputId": "d34d88af-1871-4650-da20-f798b03fdef1"
   },
   "outputs": [
    {
     "name": "stderr",
     "output_type": "stream",
     "text": [
      "<ipython-input-11-ae6ae2d455f5>:3: UserWarning: `Model.fit_generator` is deprecated and will be removed in a future version. Please use `Model.fit`, which supports generators.\n",
      "  model.fit_generator(xtrain_veg,\n"
     ]
    },
    {
     "name": "stdout",
     "output_type": "stream",
     "text": [
      "Epoch 1/25\n",
      "356/356 [==============================] - 204s 570ms/step - loss: 1.2381 - accuracy: 0.5907 - val_loss: 1068.2704 - val_accuracy: 0.3475\n",
      "Epoch 2/25\n",
      "356/356 [==============================] - 175s 492ms/step - loss: 0.5866 - accuracy: 0.7940 - val_loss: 1455.2358 - val_accuracy: 0.2620\n",
      "Epoch 3/25\n",
      "356/356 [==============================] - 178s 498ms/step - loss: 0.4351 - accuracy: 0.8496 - val_loss: 1986.5701 - val_accuracy: 0.2649\n",
      "Epoch 4/25\n",
      "356/356 [==============================] - 180s 506ms/step - loss: 0.3769 - accuracy: 0.8676 - val_loss: 2121.7747 - val_accuracy: 0.2763\n",
      "Epoch 5/25\n",
      "356/356 [==============================] - 185s 520ms/step - loss: 0.3164 - accuracy: 0.8891 - val_loss: 1658.3867 - val_accuracy: 0.3173\n",
      "Epoch 6/25\n",
      "356/356 [==============================] - 177s 498ms/step - loss: 0.2944 - accuracy: 0.8973 - val_loss: 1873.1986 - val_accuracy: 0.3510\n",
      "Epoch 7/25\n",
      "356/356 [==============================] - 180s 506ms/step - loss: 0.2614 - accuracy: 0.9095 - val_loss: 2999.2749 - val_accuracy: 0.1765\n",
      "Epoch 8/25\n",
      "356/356 [==============================] - 158s 445ms/step - loss: 0.2352 - accuracy: 0.9184 - val_loss: 2179.1577 - val_accuracy: 0.3191\n",
      "Epoch 9/25\n",
      "356/356 [==============================] - 128s 360ms/step - loss: 0.2151 - accuracy: 0.9269 - val_loss: 2621.0017 - val_accuracy: 0.2538\n",
      "Epoch 10/25\n",
      "356/356 [==============================] - 130s 366ms/step - loss: 0.2063 - accuracy: 0.9278 - val_loss: 2776.1084 - val_accuracy: 0.2957\n",
      "Epoch 11/25\n",
      "356/356 [==============================] - 134s 375ms/step - loss: 0.1852 - accuracy: 0.9348 - val_loss: 2856.5427 - val_accuracy: 0.3211\n",
      "Epoch 12/25\n",
      "356/356 [==============================] - 123s 346ms/step - loss: 0.1778 - accuracy: 0.9412 - val_loss: 2632.5142 - val_accuracy: 0.3129\n",
      "Epoch 13/25\n",
      "356/356 [==============================] - 124s 347ms/step - loss: 0.1640 - accuracy: 0.9424 - val_loss: 2782.5598 - val_accuracy: 0.3074\n",
      "Epoch 14/25\n",
      "356/356 [==============================] - 126s 354ms/step - loss: 0.1648 - accuracy: 0.9419 - val_loss: 3775.3643 - val_accuracy: 0.2796\n",
      "Epoch 15/25\n",
      "356/356 [==============================] - 139s 390ms/step - loss: 0.1536 - accuracy: 0.9472 - val_loss: 3941.0105 - val_accuracy: 0.2462\n",
      "Epoch 16/25\n",
      "356/356 [==============================] - 132s 370ms/step - loss: 0.1574 - accuracy: 0.9455 - val_loss: 2656.7856 - val_accuracy: 0.3683\n",
      "Epoch 17/25\n",
      "356/356 [==============================] - 129s 362ms/step - loss: 0.1562 - accuracy: 0.9467 - val_loss: 2891.8335 - val_accuracy: 0.2608\n",
      "Epoch 18/25\n",
      "356/356 [==============================] - 136s 382ms/step - loss: 0.1430 - accuracy: 0.9505 - val_loss: 2050.7461 - val_accuracy: 0.3440\n",
      "Epoch 19/25\n",
      "356/356 [==============================] - 140s 392ms/step - loss: 0.1199 - accuracy: 0.9617 - val_loss: 3758.1843 - val_accuracy: 0.2412\n",
      "Epoch 20/25\n",
      "356/356 [==============================] - 165s 462ms/step - loss: 0.1198 - accuracy: 0.9592 - val_loss: 1869.0424 - val_accuracy: 0.3876\n",
      "Epoch 21/25\n",
      "356/356 [==============================] - 135s 379ms/step - loss: 0.1401 - accuracy: 0.9526 - val_loss: 2391.9587 - val_accuracy: 0.3466\n",
      "Epoch 22/25\n",
      "356/356 [==============================] - 134s 375ms/step - loss: 0.1154 - accuracy: 0.9605 - val_loss: 2502.0962 - val_accuracy: 0.3970\n",
      "Epoch 23/25\n",
      "356/356 [==============================] - 125s 350ms/step - loss: 0.1174 - accuracy: 0.9604 - val_loss: 2166.6785 - val_accuracy: 0.3724\n",
      "Epoch 24/25\n",
      "356/356 [==============================] - 128s 361ms/step - loss: 0.0937 - accuracy: 0.9672 - val_loss: 3151.5571 - val_accuracy: 0.2948\n",
      "Epoch 25/25\n",
      "356/356 [==============================] - 125s 351ms/step - loss: 0.0962 - accuracy: 0.9689 - val_loss: 2867.6646 - val_accuracy: 0.3536\n"
     ]
    },
    {
     "data": {
      "text/plain": [
       "<keras.callbacks.History at 0x27be31bbe80>"
      ]
     },
     "execution_count": 11,
     "metadata": {},
     "output_type": "execute_result"
    }
   ],
   "source": [
    "# Training model\n",
    "\n",
    "model.fit_generator(xtrain_veg,\n",
    "                    steps_per_epoch=len(xtrain_veg),\n",
    "                    epochs=25,\n",
    "                    validation_data=xtest_veg,\n",
    "                    validation_steps=len(xtest_veg))"
   ]
  },
  {
   "cell_type": "markdown",
   "metadata": {
    "id": "n95PeBHAtl-X"
   },
   "source": [
    "# **Save The Model**"
   ]
  },
  {
   "cell_type": "code",
   "execution_count": 12,
   "metadata": {
    "id": "9rCwu4JneThA"
   },
   "outputs": [],
   "source": [
    "# Save model\n",
    "\n",
    "model.save('vegetable.h5')"
   ]
  },
  {
   "cell_type": "markdown",
   "metadata": {
    "id": "eNt4D2MjfwEO"
   },
   "source": [
    "# **Test The Model**"
   ]
  },
  {
   "cell_type": "code",
   "execution_count": 13,
   "metadata": {
    "colab": {
     "base_uri": "https://localhost:8080/"
    },
    "id": "aDE-2pdofYz3",
    "outputId": "374a3d79-6e8b-4e0f-a114-5c3c02cfa0d9"
   },
   "outputs": [
    {
     "name": "stdout",
     "output_type": "stream",
     "text": [
      "1/1 [==============================] - 0s 113ms/step\n",
      "0\n"
     ]
    }
   ],
   "source": [
    "from tensorflow.keras.preprocessing import image  # Importing req. lib\n",
    "from tensorflow.keras.preprocessing.image import img_to_array\n",
    "from tensorflow.keras.models import load_model\n",
    "import numpy as np\n",
    "\n",
    "model = load_model(\"vegetable.h5\")\n",
    "\n",
    "img = image.load_img(r\"D:\\IBM 7th sem project\\tomato_bacterialspot.jpg\",target_size=(128,128))\n",
    "x = image.img_to_array(img)\n",
    "x = np.expand_dims(x,axis=0)\n",
    "pred = np.argmax(model.predict(x))\n",
    "print(pred)"
   ]
  }
 ],
 "metadata": {
  "accelerator": "GPU",
  "colab": {
   "collapsed_sections": [],
   "provenance": []
  },
  "kernelspec": {
   "display_name": "Python 3",
   "language": "python",
   "name": "python3"
  },
  "language_info": {
   "codemirror_mode": {
    "name": "ipython",
    "version": 3
   },
   "file_extension": ".py",
   "mimetype": "text/x-python",
   "name": "python",
   "nbconvert_exporter": "python",
   "pygments_lexer": "ipython3",
   "version": "3.8.8"
  }
 },
 "nbformat": 4,
 "nbformat_minor": 1
}
