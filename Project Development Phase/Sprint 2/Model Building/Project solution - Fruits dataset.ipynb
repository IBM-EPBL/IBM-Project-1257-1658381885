{
 "cells": [
  {
   "cell_type": "markdown",
   "metadata": {
    "id": "nooMsj5bVjge"
   },
   "source": [
    "# **Image Augmentation**\n",
    "\n",
    "It is a technique used to increase the image with some modification. To overcome overfitting we are using augmentation."
   ]
  },
  {
   "cell_type": "code",
   "execution_count": 1,
   "metadata": {
    "id": "CloXgRmFs_XQ",
    "outputId": "33566328-67a0-4169-e1d8-f63d633a66ed"
   },
   "outputs": [
    {
     "name": "stdout",
     "output_type": "stream",
     "text": [
      "Requirement already satisfied: tensorflow in c:\\users\\dineshraja\\anaconda3\\lib\\site-packages (2.10.0)\n",
      "Requirement already satisfied: six>=1.12.0 in c:\\users\\dineshraja\\anaconda3\\lib\\site-packages (from tensorflow) (1.15.0)\n",
      "Requirement already satisfied: gast<=0.4.0,>=0.2.1 in c:\\users\\dineshraja\\anaconda3\\lib\\site-packages (from tensorflow) (0.4.0)\n",
      "Requirement already satisfied: libclang>=13.0.0 in c:\\users\\dineshraja\\anaconda3\\lib\\site-packages (from tensorflow) (14.0.6)\n",
      "Requirement already satisfied: keras-preprocessing>=1.1.1 in c:\\users\\dineshraja\\anaconda3\\lib\\site-packages (from tensorflow) (1.1.2)\n",
      "Requirement already satisfied: opt-einsum>=2.3.2 in c:\\users\\dineshraja\\anaconda3\\lib\\site-packages (from tensorflow) (3.3.0)\n",
      "Requirement already satisfied: astunparse>=1.6.0 in c:\\users\\dineshraja\\anaconda3\\lib\\site-packages (from tensorflow) (1.6.3)\n",
      "Requirement already satisfied: numpy>=1.20 in c:\\users\\dineshraja\\anaconda3\\lib\\site-packages (from tensorflow) (1.20.1)\n",
      "Requirement already satisfied: tensorboard<2.11,>=2.10 in c:\\users\\dineshraja\\anaconda3\\lib\\site-packages (from tensorflow) (2.10.1)\n",
      "Requirement already satisfied: termcolor>=1.1.0 in c:\\users\\dineshraja\\anaconda3\\lib\\site-packages (from tensorflow) (2.0.1)\n",
      "Requirement already satisfied: tensorflow-estimator<2.11,>=2.10.0 in c:\\users\\dineshraja\\anaconda3\\lib\\site-packages (from tensorflow) (2.10.0)\n",
      "Requirement already satisfied: wrapt>=1.11.0 in c:\\users\\dineshraja\\anaconda3\\lib\\site-packages (from tensorflow) (1.12.1)\n",
      "Requirement already satisfied: h5py>=2.9.0 in c:\\users\\dineshraja\\anaconda3\\lib\\site-packages (from tensorflow) (2.10.0)\n",
      "Requirement already satisfied: keras<2.11,>=2.10.0 in c:\\users\\dineshraja\\anaconda3\\lib\\site-packages (from tensorflow) (2.10.0)\n",
      "Requirement already satisfied: grpcio<2.0,>=1.24.3 in c:\\users\\dineshraja\\anaconda3\\lib\\site-packages (from tensorflow) (1.49.1)\n",
      "Requirement already satisfied: packaging in c:\\users\\dineshraja\\anaconda3\\lib\\site-packages (from tensorflow) (20.9)\n",
      "Requirement already satisfied: setuptools in c:\\users\\dineshraja\\anaconda3\\lib\\site-packages (from tensorflow) (52.0.0.post20210125)\n",
      "Requirement already satisfied: typing-extensions>=3.6.6 in c:\\users\\dineshraja\\anaconda3\\lib\\site-packages (from tensorflow) (3.7.4.3)\n",
      "Requirement already satisfied: flatbuffers>=2.0 in c:\\users\\dineshraja\\anaconda3\\lib\\site-packages (from tensorflow) (22.9.24)\n",
      "Requirement already satisfied: tensorflow-io-gcs-filesystem>=0.23.1 in c:\\users\\dineshraja\\anaconda3\\lib\\site-packages (from tensorflow) (0.27.0)\n",
      "Requirement already satisfied: absl-py>=1.0.0 in c:\\users\\dineshraja\\anaconda3\\lib\\site-packages (from tensorflow) (1.2.0)\n",
      "Requirement already satisfied: protobuf<3.20,>=3.9.2 in c:\\users\\dineshraja\\anaconda3\\lib\\site-packages (from tensorflow) (3.19.6)\n",
      "Requirement already satisfied: google-pasta>=0.1.1 in c:\\users\\dineshraja\\anaconda3\\lib\\site-packages (from tensorflow) (0.2.0)\n",
      "Requirement already satisfied: wheel<1.0,>=0.23.0 in c:\\users\\dineshraja\\anaconda3\\lib\\site-packages (from astunparse>=1.6.0->tensorflow) (0.36.2)\n",
      "Requirement already satisfied: markdown>=2.6.8 in c:\\users\\dineshraja\\anaconda3\\lib\\site-packages (from tensorboard<2.11,>=2.10->tensorflow) (3.4.1)\n",
      "Requirement already satisfied: google-auth<3,>=1.6.3 in c:\\users\\dineshraja\\anaconda3\\lib\\site-packages (from tensorboard<2.11,>=2.10->tensorflow) (2.12.0)\n",
      "Requirement already satisfied: google-auth-oauthlib<0.5,>=0.4.1 in c:\\users\\dineshraja\\anaconda3\\lib\\site-packages (from tensorboard<2.11,>=2.10->tensorflow) (0.4.6)\n",
      "Requirement already satisfied: tensorboard-data-server<0.7.0,>=0.6.0 in c:\\users\\dineshraja\\anaconda3\\lib\\site-packages (from tensorboard<2.11,>=2.10->tensorflow) (0.6.1)\n",
      "Requirement already satisfied: requests<3,>=2.21.0 in c:\\users\\dineshraja\\anaconda3\\lib\\site-packages (from tensorboard<2.11,>=2.10->tensorflow) (2.25.1)\n",
      "Requirement already satisfied: werkzeug>=1.0.1 in c:\\users\\dineshraja\\anaconda3\\lib\\site-packages (from tensorboard<2.11,>=2.10->tensorflow) (1.0.1)\n",
      "Requirement already satisfied: tensorboard-plugin-wit>=1.6.0 in c:\\users\\dineshraja\\anaconda3\\lib\\site-packages (from tensorboard<2.11,>=2.10->tensorflow) (1.8.1)\n",
      "Requirement already satisfied: rsa<5,>=3.1.4 in c:\\users\\dineshraja\\anaconda3\\lib\\site-packages (from google-auth<3,>=1.6.3->tensorboard<2.11,>=2.10->tensorflow) (4.9)\n",
      "Requirement already satisfied: cachetools<6.0,>=2.0.0 in c:\\users\\dineshraja\\anaconda3\\lib\\site-packages (from google-auth<3,>=1.6.3->tensorboard<2.11,>=2.10->tensorflow) (5.2.0)\n",
      "Requirement already satisfied: pyasn1-modules>=0.2.1 in c:\\users\\dineshraja\\anaconda3\\lib\\site-packages (from google-auth<3,>=1.6.3->tensorboard<2.11,>=2.10->tensorflow) (0.2.8)\n",
      "Requirement already satisfied: requests-oauthlib>=0.7.0 in c:\\users\\dineshraja\\anaconda3\\lib\\site-packages (from google-auth-oauthlib<0.5,>=0.4.1->tensorboard<2.11,>=2.10->tensorflow) (1.3.1)\n",
      "Requirement already satisfied: importlib-metadata>=4.4 in c:\\users\\dineshraja\\anaconda3\\lib\\site-packages (from markdown>=2.6.8->tensorboard<2.11,>=2.10->tensorflow) (4.12.0)\n",
      "Requirement already satisfied: zipp>=0.5 in c:\\users\\dineshraja\\anaconda3\\lib\\site-packages (from importlib-metadata>=4.4->markdown>=2.6.8->tensorboard<2.11,>=2.10->tensorflow) (3.4.1)\n",
      "Requirement already satisfied: pyasn1<0.5.0,>=0.4.6 in c:\\users\\dineshraja\\anaconda3\\lib\\site-packages (from pyasn1-modules>=0.2.1->google-auth<3,>=1.6.3->tensorboard<2.11,>=2.10->tensorflow) (0.4.8)\n",
      "Requirement already satisfied: chardet<5,>=3.0.2 in c:\\users\\dineshraja\\anaconda3\\lib\\site-packages (from requests<3,>=2.21.0->tensorboard<2.11,>=2.10->tensorflow) (4.0.0)\n",
      "Requirement already satisfied: idna<3,>=2.5 in c:\\users\\dineshraja\\anaconda3\\lib\\site-packages (from requests<3,>=2.21.0->tensorboard<2.11,>=2.10->tensorflow) (2.10)\n",
      "Requirement already satisfied: certifi>=2017.4.17 in c:\\users\\dineshraja\\anaconda3\\lib\\site-packages (from requests<3,>=2.21.0->tensorboard<2.11,>=2.10->tensorflow) (2020.12.5)\n",
      "Requirement already satisfied: urllib3<1.27,>=1.21.1 in c:\\users\\dineshraja\\anaconda3\\lib\\site-packages (from requests<3,>=2.21.0->tensorboard<2.11,>=2.10->tensorflow) (1.26.4)\n",
      "Requirement already satisfied: oauthlib>=3.0.0 in c:\\users\\dineshraja\\anaconda3\\lib\\site-packages (from requests-oauthlib>=0.7.0->google-auth-oauthlib<0.5,>=0.4.1->tensorboard<2.11,>=2.10->tensorflow) (3.2.1)\n",
      "Requirement already satisfied: pyparsing>=2.0.2 in c:\\users\\dineshraja\\anaconda3\\lib\\site-packages (from packaging->tensorflow) (2.4.7)\n"
     ]
    }
   ],
   "source": [
    "!pip install tensorflow"
   ]
  },
  {
   "cell_type": "code",
   "execution_count": 2,
   "metadata": {
    "id": "m7siVT5qUYGP"
   },
   "outputs": [],
   "source": [
    "# Import required lib\n",
    "\n",
    "from keras.preprocessing.image import ImageDataGenerator"
   ]
  },
  {
   "cell_type": "code",
   "execution_count": 3,
   "metadata": {
    "id": "otlxqYLHWPgs"
   },
   "outputs": [],
   "source": [
    "# Initializing augmentation for training variable\n",
    "\n",
    "train_datagen = ImageDataGenerator(rescale=1./255,shear_range=0.2,\n",
    "                                   zoom_range=0.2,\n",
    "                                   horizontal_flip=True)"
   ]
  },
  {
   "cell_type": "code",
   "execution_count": 4,
   "metadata": {
    "id": "BrGmvE9SXpvU"
   },
   "outputs": [],
   "source": [
    "# Initializing augmentation for testing variable\n",
    "\n",
    "test_datagen = ImageDataGenerator(rescale=1)"
   ]
  },
  {
   "cell_type": "code",
   "execution_count": 5,
   "metadata": {
    "colab": {
     "base_uri": "https://localhost:8080/"
    },
    "id": "ZEJbmZkdYD_W",
    "outputId": "917e51d6-50bf-4716-daa9-9591249fd08e"
   },
   "outputs": [
    {
     "name": "stdout",
     "output_type": "stream",
     "text": [
      "Found 5384 images belonging to 6 classes.\n"
     ]
    }
   ],
   "source": [
    "# Passing training data for training variable (augmentation)\n",
    "\n",
    "xtrain_fruit = train_datagen.flow_from_directory(r'D:\\IBM 7th sem project\\Fertilizers_Recommendation_ System_For_Disease_ Prediction\\Dataset Plant Disease\\fruit-dataset\\fruit-dataset\\train',\n",
    "                                           target_size=(128,128),\n",
    "                                           batch_size=32,class_mode='categorical')"
   ]
  },
  {
   "cell_type": "code",
   "execution_count": 6,
   "metadata": {
    "colab": {
     "base_uri": "https://localhost:8080/"
    },
    "id": "ErnKIG2UZOEV",
    "outputId": "63a47389-3142-446a-e0aa-ded10e13099d"
   },
   "outputs": [
    {
     "name": "stdout",
     "output_type": "stream",
     "text": [
      "Found 1686 images belonging to 6 classes.\n"
     ]
    }
   ],
   "source": [
    "# Passing testing data for testing variable (augmentation)\n",
    "\n",
    "xtest_fruit = test_datagen.flow_from_directory(r'D:\\IBM 7th sem project\\Fertilizers_Recommendation_ System_For_Disease_ Prediction\\Dataset Plant Disease\\fruit-dataset\\fruit-dataset\\test',\n",
    "                                           target_size=(128,128),\n",
    "                                           batch_size=32,class_mode='categorical')"
   ]
  },
  {
   "cell_type": "markdown",
   "metadata": {
    "id": "ZrW-zmWOtMjb"
   },
   "source": [
    "# **Create Model**"
   ]
  },
  {
   "cell_type": "markdown",
   "metadata": {
    "id": "aMaCs9XEaCLv"
   },
   "source": [
    "# CNN Model"
   ]
  },
  {
   "cell_type": "code",
   "execution_count": 7,
   "metadata": {
    "id": "j4e01RYsZ4Dn"
   },
   "outputs": [],
   "source": [
    "from keras.models import Sequential\n",
    "from keras.layers import Dense\n",
    "from keras.layers import Convolution2D\n",
    "from keras.layers import MaxPooling2D\n",
    "from keras.layers import Flatten"
   ]
  },
  {
   "cell_type": "markdown",
   "metadata": {
    "id": "4uucwXsMvWTJ"
   },
   "source": [
    "# **Add Layers (Convolution,MaxPooling,Flatten,Dense-(Hidden Layers),Output)**"
   ]
  },
  {
   "cell_type": "code",
   "execution_count": 8,
   "metadata": {
    "id": "9MfdAZhDaek-"
   },
   "outputs": [],
   "source": [
    "# CNN block \n",
    "\n",
    "model = Sequential() # Initializing sequential model \n",
    "model.add(Convolution2D(32,(3,3),activation='relu',input_shape=(128,128,3))) # Convolution layer \n",
    "model.add(MaxPooling2D(pool_size=(2, 2))) # Max pooling layer \n",
    "model.add(Flatten()) # Flatten layer "
   ]
  },
  {
   "cell_type": "code",
   "execution_count": 9,
   "metadata": {},
   "outputs": [],
   "source": [
    "model.add(Dense(40,activation='relu')) # Hidden layer 1\n",
    "model.add(Dense(20,activation='relu')) # Hidden layer 2\n",
    "model.add(Dense(6,activation='softmax')) # Output layer "
   ]
  },
  {
   "cell_type": "markdown",
   "metadata": {
    "id": "MORmhTgJvaXh"
   },
   "source": [
    "# **Compile The Model**"
   ]
  },
  {
   "cell_type": "code",
   "execution_count": 10,
   "metadata": {
    "id": "5bV0xenScmZ4"
   },
   "outputs": [],
   "source": [
    "# Compile model\n",
    "\n",
    "model.compile(optimizer='adam',loss='categorical_crossentropy',metrics=['accuracy'])"
   ]
  },
  {
   "cell_type": "markdown",
   "metadata": {
    "id": "Zs8Nl0UFs_XU"
   },
   "source": [
    "# **Fit The Model**"
   ]
  },
  {
   "cell_type": "code",
   "execution_count": 11,
   "metadata": {
    "colab": {
     "base_uri": "https://localhost:8080/"
    },
    "id": "-7BqBhJXc6S6",
    "outputId": "d34d88af-1871-4650-da20-f798b03fdef1"
   },
   "outputs": [
    {
     "name": "stderr",
     "output_type": "stream",
     "text": [
      "<ipython-input-11-74d06205024b>:3: UserWarning: `Model.fit_generator` is deprecated and will be removed in a future version. Please use `Model.fit`, which supports generators.\n",
      "  model.fit_generator(xtrain_fruit,\n"
     ]
    },
    {
     "name": "stdout",
     "output_type": "stream",
     "text": [
      "Epoch 1/50\n",
      "169/169 [==============================] - 75s 439ms/step - loss: 1.0475 - accuracy: 0.6759 - val_loss: 67.8298 - val_accuracy: 0.7972\n",
      "Epoch 2/50\n",
      "169/169 [==============================] - 67s 399ms/step - loss: 0.4983 - accuracy: 0.8265 - val_loss: 134.3167 - val_accuracy: 0.7070\n",
      "Epoch 3/50\n",
      "169/169 [==============================] - 68s 399ms/step - loss: 0.3542 - accuracy: 0.8718 - val_loss: 200.1998 - val_accuracy: 0.6773\n",
      "Epoch 4/50\n",
      "169/169 [==============================] - 62s 367ms/step - loss: 0.2556 - accuracy: 0.9123 - val_loss: 291.9319 - val_accuracy: 0.6489\n",
      "Epoch 5/50\n",
      "169/169 [==============================] - 40s 236ms/step - loss: 0.2268 - accuracy: 0.9222 - val_loss: 159.1350 - val_accuracy: 0.7390\n",
      "Epoch 6/50\n",
      "169/169 [==============================] - 39s 230ms/step - loss: 0.2038 - accuracy: 0.9285 - val_loss: 308.1006 - val_accuracy: 0.6358\n",
      "Epoch 7/50\n",
      "169/169 [==============================] - 40s 237ms/step - loss: 0.1775 - accuracy: 0.9378 - val_loss: 609.8800 - val_accuracy: 0.5777\n",
      "Epoch 8/50\n",
      "169/169 [==============================] - 40s 234ms/step - loss: 0.1521 - accuracy: 0.9467 - val_loss: 874.0204 - val_accuracy: 0.5967\n",
      "Epoch 9/50\n",
      "169/169 [==============================] - 40s 237ms/step - loss: 0.1738 - accuracy: 0.9389 - val_loss: 425.6462 - val_accuracy: 0.6928\n",
      "Epoch 10/50\n",
      "169/169 [==============================] - 41s 245ms/step - loss: 0.1421 - accuracy: 0.9474 - val_loss: 922.1647 - val_accuracy: 0.5587\n",
      "Epoch 11/50\n",
      "169/169 [==============================] - 44s 261ms/step - loss: 0.1251 - accuracy: 0.9552 - val_loss: 820.2438 - val_accuracy: 0.6388\n",
      "Epoch 12/50\n",
      "169/169 [==============================] - 46s 274ms/step - loss: 0.1203 - accuracy: 0.9584 - val_loss: 687.4158 - val_accuracy: 0.6625\n",
      "Epoch 13/50\n",
      "169/169 [==============================] - 59s 350ms/step - loss: 0.1075 - accuracy: 0.9636 - val_loss: 1186.3500 - val_accuracy: 0.5409\n",
      "Epoch 14/50\n",
      "169/169 [==============================] - 82s 486ms/step - loss: 0.0906 - accuracy: 0.9681 - val_loss: 953.4340 - val_accuracy: 0.6222\n",
      "Epoch 15/50\n",
      "169/169 [==============================] - 62s 366ms/step - loss: 0.0766 - accuracy: 0.9736 - val_loss: 1092.9227 - val_accuracy: 0.5451\n",
      "Epoch 16/50\n",
      "169/169 [==============================] - 59s 350ms/step - loss: 0.0924 - accuracy: 0.9699 - val_loss: 944.3164 - val_accuracy: 0.6056\n",
      "Epoch 17/50\n",
      "169/169 [==============================] - 59s 350ms/step - loss: 0.0800 - accuracy: 0.9731 - val_loss: 1303.6230 - val_accuracy: 0.6038\n",
      "Epoch 18/50\n",
      "169/169 [==============================] - 66s 388ms/step - loss: 0.0894 - accuracy: 0.9699 - val_loss: 1865.6421 - val_accuracy: 0.4893\n",
      "Epoch 19/50\n",
      "169/169 [==============================] - 59s 348ms/step - loss: 0.1226 - accuracy: 0.9567 - val_loss: 955.5698 - val_accuracy: 0.6204\n",
      "Epoch 20/50\n",
      "169/169 [==============================] - 59s 350ms/step - loss: 0.0752 - accuracy: 0.9720 - val_loss: 1153.1660 - val_accuracy: 0.5641\n",
      "Epoch 21/50\n",
      "169/169 [==============================] - 59s 351ms/step - loss: 0.0819 - accuracy: 0.9716 - val_loss: 1267.7097 - val_accuracy: 0.5546\n",
      "Epoch 22/50\n",
      "169/169 [==============================] - 69s 410ms/step - loss: 0.0671 - accuracy: 0.9768 - val_loss: 1209.5692 - val_accuracy: 0.6020\n",
      "Epoch 23/50\n",
      "169/169 [==============================] - 66s 391ms/step - loss: 0.0589 - accuracy: 0.9801 - val_loss: 1106.7946 - val_accuracy: 0.5801\n",
      "Epoch 24/50\n",
      "169/169 [==============================] - 59s 352ms/step - loss: 0.0659 - accuracy: 0.9760 - val_loss: 1418.6194 - val_accuracy: 0.5433\n",
      "Epoch 25/50\n",
      "169/169 [==============================] - 59s 350ms/step - loss: 0.0637 - accuracy: 0.9779 - val_loss: 959.3055 - val_accuracy: 0.6388\n",
      "Epoch 26/50\n",
      "169/169 [==============================] - 60s 353ms/step - loss: 0.0582 - accuracy: 0.9764 - val_loss: 1003.5981 - val_accuracy: 0.6311\n",
      "Epoch 27/50\n",
      "169/169 [==============================] - 61s 358ms/step - loss: 0.0467 - accuracy: 0.9838 - val_loss: 1048.9032 - val_accuracy: 0.6530\n",
      "Epoch 28/50\n",
      "169/169 [==============================] - 60s 352ms/step - loss: 0.0544 - accuracy: 0.9822 - val_loss: 845.4440 - val_accuracy: 0.6667\n",
      "Epoch 29/50\n",
      "169/169 [==============================] - 60s 353ms/step - loss: 0.0536 - accuracy: 0.9829 - val_loss: 1381.8209 - val_accuracy: 0.5913\n",
      "Epoch 30/50\n",
      "169/169 [==============================] - 58s 340ms/step - loss: 0.0656 - accuracy: 0.9788 - val_loss: 1658.7900 - val_accuracy: 0.5516\n",
      "Epoch 31/50\n",
      "169/169 [==============================] - 57s 340ms/step - loss: 0.0615 - accuracy: 0.9788 - val_loss: 1280.8514 - val_accuracy: 0.5925\n",
      "Epoch 32/50\n",
      "169/169 [==============================] - 57s 337ms/step - loss: 0.0466 - accuracy: 0.9831 - val_loss: 769.0604 - val_accuracy: 0.6198\n",
      "Epoch 33/50\n",
      "169/169 [==============================] - 57s 337ms/step - loss: 0.0721 - accuracy: 0.9742 - val_loss: 1261.9336 - val_accuracy: 0.5753\n",
      "Epoch 34/50\n",
      "169/169 [==============================] - 58s 341ms/step - loss: 0.0424 - accuracy: 0.9863 - val_loss: 1043.8959 - val_accuracy: 0.6329\n",
      "Epoch 35/50\n",
      "169/169 [==============================] - 58s 341ms/step - loss: 0.0458 - accuracy: 0.9853 - val_loss: 1185.3876 - val_accuracy: 0.5819\n",
      "Epoch 36/50\n",
      "169/169 [==============================] - 60s 353ms/step - loss: 0.0379 - accuracy: 0.9877 - val_loss: 1086.5862 - val_accuracy: 0.6204\n",
      "Epoch 37/50\n",
      "169/169 [==============================] - 65s 382ms/step - loss: 0.0388 - accuracy: 0.9861 - val_loss: 1996.9794 - val_accuracy: 0.5089\n",
      "Epoch 38/50\n",
      "169/169 [==============================] - 59s 352ms/step - loss: 0.0302 - accuracy: 0.9898 - val_loss: 1619.6973 - val_accuracy: 0.5866\n",
      "Epoch 39/50\n",
      "169/169 [==============================] - 60s 353ms/step - loss: 0.0335 - accuracy: 0.9883 - val_loss: 1619.6760 - val_accuracy: 0.5730\n",
      "Epoch 40/50\n",
      "169/169 [==============================] - 60s 353ms/step - loss: 0.0563 - accuracy: 0.9825 - val_loss: 1622.4532 - val_accuracy: 0.4935\n",
      "Epoch 41/50\n",
      "169/169 [==============================] - 60s 355ms/step - loss: 0.0366 - accuracy: 0.9876 - val_loss: 835.0732 - val_accuracy: 0.6512\n",
      "Epoch 42/50\n",
      "169/169 [==============================] - 59s 348ms/step - loss: 0.0464 - accuracy: 0.9831 - val_loss: 786.2580 - val_accuracy: 0.7088\n",
      "Epoch 43/50\n",
      "169/169 [==============================] - 60s 358ms/step - loss: 0.0445 - accuracy: 0.9848 - val_loss: 1013.8549 - val_accuracy: 0.6613\n",
      "Epoch 44/50\n",
      "169/169 [==============================] - 61s 361ms/step - loss: 0.0461 - accuracy: 0.9853 - val_loss: 1168.2230 - val_accuracy: 0.6595\n",
      "Epoch 45/50\n",
      "169/169 [==============================] - 57s 340ms/step - loss: 0.0340 - accuracy: 0.9889 - val_loss: 1968.4485 - val_accuracy: 0.5836\n",
      "Epoch 46/50\n",
      "169/169 [==============================] - 58s 342ms/step - loss: 0.0319 - accuracy: 0.9905 - val_loss: 1803.8273 - val_accuracy: 0.5896\n",
      "Epoch 47/50\n",
      "169/169 [==============================] - 58s 344ms/step - loss: 0.0443 - accuracy: 0.9842 - val_loss: 1161.9744 - val_accuracy: 0.6222\n",
      "Epoch 48/50\n",
      "169/169 [==============================] - 59s 349ms/step - loss: 0.0392 - accuracy: 0.9857 - val_loss: 1295.2927 - val_accuracy: 0.6216\n",
      "Epoch 49/50\n",
      "169/169 [==============================] - 58s 343ms/step - loss: 0.0418 - accuracy: 0.9848 - val_loss: 1058.1876 - val_accuracy: 0.6845\n",
      "Epoch 50/50\n",
      "169/169 [==============================] - 58s 342ms/step - loss: 0.0336 - accuracy: 0.9885 - val_loss: 1318.4784 - val_accuracy: 0.6483\n"
     ]
    },
    {
     "data": {
      "text/plain": [
       "<keras.callbacks.History at 0x11f4b3def10>"
      ]
     },
     "execution_count": 11,
     "metadata": {},
     "output_type": "execute_result"
    }
   ],
   "source": [
    "# Training model\n",
    "\n",
    "model.fit_generator(xtrain_fruit,\n",
    "                    steps_per_epoch=len(xtrain_fruit),\n",
    "                    epochs=50,\n",
    "                    validation_data=xtest_fruit,\n",
    "                    validation_steps=len(xtest_fruit))"
   ]
  },
  {
   "cell_type": "markdown",
   "metadata": {
    "id": "n95PeBHAtl-X"
   },
   "source": [
    "# **Save The Model**"
   ]
  },
  {
   "cell_type": "code",
   "execution_count": 12,
   "metadata": {
    "id": "9rCwu4JneThA"
   },
   "outputs": [],
   "source": [
    "# Save model\n",
    "\n",
    "model.save('fruit.h5')"
   ]
  },
  {
   "cell_type": "markdown",
   "metadata": {
    "id": "eNt4D2MjfwEO"
   },
   "source": [
    "# **Test The Model**"
   ]
  },
  {
   "cell_type": "code",
   "execution_count": 13,
   "metadata": {
    "colab": {
     "base_uri": "https://localhost:8080/"
    },
    "id": "aDE-2pdofYz3",
    "outputId": "374a3d79-6e8b-4e0f-a114-5c3c02cfa0d9"
   },
   "outputs": [
    {
     "name": "stdout",
     "output_type": "stream",
     "text": [
      "1/1 [==============================] - 0s 185ms/step\n",
      "3\n"
     ]
    }
   ],
   "source": [
    "from tensorflow.keras.preprocessing import image  # Importing req. lib\n",
    "from tensorflow.keras.preprocessing.image import img_to_array\n",
    "from tensorflow.keras.models import load_model\n",
    "import numpy as np\n",
    "\n",
    "model = load_model(\"fruit.h5\")\n",
    "\n",
    "img = image.load_img(r\"D:\\IBM 7th sem project\\apple-healthy.jpg\",target_size=(128,128))\n",
    "x = image.img_to_array(img)\n",
    "x = np.expand_dims(x,axis=0)\n",
    "pred = np.argmax(model.predict(x))\n",
    "print(pred)"
   ]
  },
  {
   "cell_type": "code",
   "execution_count": null,
   "metadata": {},
   "outputs": [],
   "source": []
  }
 ],
 "metadata": {
  "accelerator": "GPU",
  "colab": {
   "collapsed_sections": [],
   "provenance": []
  },
  "kernelspec": {
   "display_name": "Python 3",
   "language": "python",
   "name": "python3"
  },
  "language_info": {
   "codemirror_mode": {
    "name": "ipython",
    "version": 3
   },
   "file_extension": ".py",
   "mimetype": "text/x-python",
   "name": "python",
   "nbconvert_exporter": "python",
   "pygments_lexer": "ipython3",
   "version": "3.8.8"
  }
 },
 "nbformat": 4,
 "nbformat_minor": 1
}
